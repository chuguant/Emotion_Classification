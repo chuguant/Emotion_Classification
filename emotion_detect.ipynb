{
  "nbformat": 4,
  "nbformat_minor": 0,
  "metadata": {
    "colab": {
      "name": "emotion_detect.ipynb",
      "provenance": [],
      "collapsed_sections": [],
      "mount_file_id": "1Ck1zlY_VwvcBnD0_20E5SoXc4wOV6MNE",
      "authorship_tag": "ABX9TyNWDbFFV1lT3jC3qBJldEog",
      "include_colab_link": true
    },
    "kernelspec": {
      "name": "python3",
      "display_name": "Python 3"
    },
    "accelerator": "GPU"
  },
  "cells": [
    {
      "cell_type": "markdown",
      "metadata": {
        "id": "view-in-github",
        "colab_type": "text"
      },
      "source": [
        "<a href=\"https://colab.research.google.com/github/chuguant/Emotion_Classification/blob/main/emotion_detect.ipynb\" target=\"_parent\"><img src=\"https://colab.research.google.com/assets/colab-badge.svg\" alt=\"Open In Colab\"/></a>"
      ]
    },
    {
      "cell_type": "code",
      "metadata": {
        "colab": {
          "base_uri": "https://localhost:8080/"
        },
        "id": "b3MNUVgLEPbC",
        "outputId": "7d96a714-74a3-4dec-88a4-800281897fbe"
      },
      "source": [
        "import numpy as np\n",
        "import pandas as pd \n",
        "from PIL import Image\n",
        "from tqdm import tqdm\n",
        "import os\n",
        "\n",
        "# convert string to integer\n",
        "def atoi(s):\n",
        "    n = 0\n",
        "    for i in s:\n",
        "        n = n*10 + ord(i) - ord(\"0\")\n",
        "    return n\n",
        "\n",
        "# making folders\n",
        "outer_names = ['test','train']\n",
        "inner_names = ['angry', 'disgusted', 'fearful', 'happy', 'sad', 'surprised', 'neutral']\n",
        "os.makedirs('data', exist_ok=True)\n",
        "for outer_name in outer_names:\n",
        "    os.makedirs(os.path.join('/content/data',outer_name), exist_ok=True)\n",
        "    for inner_name in inner_names:\n",
        "        os.makedirs(os.path.join('/content/data',outer_name,inner_name), exist_ok=True)\n",
        "\n",
        "# to keep count of each category\n",
        "angry = 0\n",
        "disgusted = 0\n",
        "fearful = 0\n",
        "happy = 0\n",
        "sad = 0\n",
        "surprised = 0\n",
        "neutral = 0\n",
        "angry_test = 0\n",
        "disgusted_test = 0\n",
        "fearful_test = 0\n",
        "happy_test = 0\n",
        "sad_test = 0\n",
        "surprised_test = 0\n",
        "neutral_test = 0\n",
        "\n",
        "df = pd.read_csv('/content/drive/MyDrive/Data/fer2013.csv')\n",
        "mat = np.zeros((48,48),dtype=np.uint8)\n",
        "print(\"Saving images...\")\n",
        "\n",
        "# read the csv file line by line\n",
        "for i in tqdm(range(len(df))):\n",
        "    txt = df['pixels'][i]\n",
        "    words = txt.split()\n",
        "    \n",
        "    # the image size is 48x48\n",
        "    for j in range(2304):\n",
        "        xind = j // 48\n",
        "        yind = j % 48\n",
        "        mat[xind][yind] = atoi(words[j])\n",
        "\n",
        "    img = Image.fromarray(mat)\n",
        "\n",
        "    # train\n",
        "    if i < 28709:\n",
        "        if df['emotion'][i] == 0:\n",
        "            img.save('/content/data/train/angry/im'+str(angry)+'.png')\n",
        "            angry += 1\n",
        "        elif df['emotion'][i] == 1:\n",
        "            img.save('/content/data/train/disgusted/im'+str(disgusted)+'.png')\n",
        "            disgusted += 1\n",
        "        elif df['emotion'][i] == 2:\n",
        "            img.save('/content/data/train/fearful/im'+str(fearful)+'.png')\n",
        "            fearful += 1\n",
        "        elif df['emotion'][i] == 3:\n",
        "            img.save('/content/data/train/happy/im'+str(happy)+'.png')\n",
        "            happy += 1\n",
        "        elif df['emotion'][i] == 4:\n",
        "            img.save('/content/data/train/sad/im'+str(sad)+'.png')\n",
        "            sad += 1\n",
        "        elif df['emotion'][i] == 5:\n",
        "            img.save('/content/data/train/surprised/im'+str(surprised)+'.png')\n",
        "            surprised += 1\n",
        "        elif df['emotion'][i] == 6:\n",
        "            img.save('/content/data/train/neutral/im'+str(neutral)+'.png')\n",
        "            neutral += 1\n",
        "\n",
        "    # test\n",
        "    else:\n",
        "        if df['emotion'][i] == 0:\n",
        "            img.save('/content/data/test/angry/im'+str(angry_test)+'.png')\n",
        "            angry_test += 1\n",
        "        elif df['emotion'][i] == 1:\n",
        "            img.save('/content/data/test/disgusted/im'+str(disgusted_test)+'.png')\n",
        "            disgusted_test += 1\n",
        "        elif df['emotion'][i] == 2:\n",
        "            img.save('/content/data/test/fearful/im'+str(fearful_test)+'.png')\n",
        "            fearful_test += 1\n",
        "        elif df['emotion'][i] == 3:\n",
        "            img.save('/content/data/test/happy/im'+str(happy_test)+'.png')\n",
        "            happy_test += 1\n",
        "        elif df['emotion'][i] == 4:\n",
        "            img.save('/content/data/test/sad/im'+str(sad_test)+'.png')\n",
        "            sad_test += 1\n",
        "        elif df['emotion'][i] == 5:\n",
        "            img.save('/content/data/test/surprised/im'+str(surprised_test)+'.png')\n",
        "            surprised_test += 1\n",
        "        elif df['emotion'][i] == 6:\n",
        "            img.save('/content/data/test/neutral/im'+str(neutral_test)+'.png')\n",
        "            neutral_test += 1\n",
        "\n",
        "print(\"Done!\")"
      ],
      "execution_count": null,
      "outputs": [
        {
          "output_type": "stream",
          "text": [
            "  0%|          | 28/35887 [00:00<02:10, 273.80it/s]"
          ],
          "name": "stderr"
        },
        {
          "output_type": "stream",
          "text": [
            "Saving images...\n"
          ],
          "name": "stdout"
        },
        {
          "output_type": "stream",
          "text": [
            "100%|██████████| 35887/35887 [01:28<00:00, 406.06it/s]"
          ],
          "name": "stderr"
        },
        {
          "output_type": "stream",
          "text": [
            "Done!\n"
          ],
          "name": "stdout"
        },
        {
          "output_type": "stream",
          "text": [
            "\n"
          ],
          "name": "stderr"
        }
      ]
    },
    {
      "cell_type": "code",
      "metadata": {
        "colab": {
          "base_uri": "https://localhost:8080/"
        },
        "id": "Zi7MyLk04Dg4",
        "outputId": "5d24f6b8-6d0e-4483-a642-055a934afc8d"
      },
      "source": [
        "# %cd gdrive/My\\ Drive/Colab\\ Notebooks/object_detection_demo-master/\n",
        "%cd /content"
      ],
      "execution_count": null,
      "outputs": [
        {
          "output_type": "stream",
          "text": [
            "/content\n"
          ],
          "name": "stdout"
        }
      ]
    },
    {
      "cell_type": "code",
      "metadata": {
        "colab": {
          "base_uri": "https://localhost:8080/"
        },
        "id": "Iuh88YOX7Ek0",
        "outputId": "b19589bb-8ceb-43e5-e0fd-457f740f083b"
      },
      "source": [
        "!python run.py --mode train"
      ],
      "execution_count": null,
      "outputs": [
        {
          "output_type": "stream",
          "text": [
            "2020-11-25 01:28:12.943940: I tensorflow/stream_executor/platform/default/dso_loader.cc:48] Successfully opened dynamic library libcudart.so.10.1\n",
            "Found 28709 images belonging to 7 classes.\n",
            "Found 7178 images belonging to 7 classes.\n",
            "2020-11-25 01:28:15.542286: I tensorflow/stream_executor/platform/default/dso_loader.cc:48] Successfully opened dynamic library libcuda.so.1\n",
            "2020-11-25 01:28:15.576008: I tensorflow/stream_executor/cuda/cuda_gpu_executor.cc:982] successful NUMA node read from SysFS had negative value (-1), but there must be at least one NUMA node, so returning NUMA node zero\n",
            "2020-11-25 01:28:15.576602: I tensorflow/core/common_runtime/gpu/gpu_device.cc:1716] Found device 0 with properties: \n",
            "pciBusID: 0000:00:04.0 name: Tesla T4 computeCapability: 7.5\n",
            "coreClock: 1.59GHz coreCount: 40 deviceMemorySize: 14.73GiB deviceMemoryBandwidth: 298.08GiB/s\n",
            "2020-11-25 01:28:15.576643: I tensorflow/stream_executor/platform/default/dso_loader.cc:48] Successfully opened dynamic library libcudart.so.10.1\n",
            "2020-11-25 01:28:15.578176: I tensorflow/stream_executor/platform/default/dso_loader.cc:48] Successfully opened dynamic library libcublas.so.10\n",
            "2020-11-25 01:28:15.579741: I tensorflow/stream_executor/platform/default/dso_loader.cc:48] Successfully opened dynamic library libcufft.so.10\n",
            "2020-11-25 01:28:15.580095: I tensorflow/stream_executor/platform/default/dso_loader.cc:48] Successfully opened dynamic library libcurand.so.10\n",
            "2020-11-25 01:28:15.581635: I tensorflow/stream_executor/platform/default/dso_loader.cc:48] Successfully opened dynamic library libcusolver.so.10\n",
            "2020-11-25 01:28:15.583000: I tensorflow/stream_executor/platform/default/dso_loader.cc:48] Successfully opened dynamic library libcusparse.so.10\n",
            "2020-11-25 01:28:15.586599: I tensorflow/stream_executor/platform/default/dso_loader.cc:48] Successfully opened dynamic library libcudnn.so.7\n",
            "2020-11-25 01:28:15.586717: I tensorflow/stream_executor/cuda/cuda_gpu_executor.cc:982] successful NUMA node read from SysFS had negative value (-1), but there must be at least one NUMA node, so returning NUMA node zero\n",
            "2020-11-25 01:28:15.587310: I tensorflow/stream_executor/cuda/cuda_gpu_executor.cc:982] successful NUMA node read from SysFS had negative value (-1), but there must be at least one NUMA node, so returning NUMA node zero\n",
            "2020-11-25 01:28:15.587833: I tensorflow/core/common_runtime/gpu/gpu_device.cc:1858] Adding visible gpu devices: 0\n",
            "2020-11-25 01:28:15.593239: I tensorflow/core/platform/profile_utils/cpu_utils.cc:104] CPU Frequency: 2200000000 Hz\n",
            "2020-11-25 01:28:15.593423: I tensorflow/compiler/xla/service/service.cc:168] XLA service 0x1d44f40 initialized for platform Host (this does not guarantee that XLA will be used). Devices:\n",
            "2020-11-25 01:28:15.593454: I tensorflow/compiler/xla/service/service.cc:176]   StreamExecutor device (0): Host, Default Version\n",
            "2020-11-25 01:28:15.700119: I tensorflow/stream_executor/cuda/cuda_gpu_executor.cc:982] successful NUMA node read from SysFS had negative value (-1), but there must be at least one NUMA node, so returning NUMA node zero\n",
            "2020-11-25 01:28:15.700948: I tensorflow/compiler/xla/service/service.cc:168] XLA service 0x1d45100 initialized for platform CUDA (this does not guarantee that XLA will be used). Devices:\n",
            "2020-11-25 01:28:15.700991: I tensorflow/compiler/xla/service/service.cc:176]   StreamExecutor device (0): Tesla T4, Compute Capability 7.5\n",
            "2020-11-25 01:28:15.701190: I tensorflow/stream_executor/cuda/cuda_gpu_executor.cc:982] successful NUMA node read from SysFS had negative value (-1), but there must be at least one NUMA node, so returning NUMA node zero\n",
            "2020-11-25 01:28:15.701696: I tensorflow/core/common_runtime/gpu/gpu_device.cc:1716] Found device 0 with properties: \n",
            "pciBusID: 0000:00:04.0 name: Tesla T4 computeCapability: 7.5\n",
            "coreClock: 1.59GHz coreCount: 40 deviceMemorySize: 14.73GiB deviceMemoryBandwidth: 298.08GiB/s\n",
            "2020-11-25 01:28:15.701750: I tensorflow/stream_executor/platform/default/dso_loader.cc:48] Successfully opened dynamic library libcudart.so.10.1\n",
            "2020-11-25 01:28:15.701788: I tensorflow/stream_executor/platform/default/dso_loader.cc:48] Successfully opened dynamic library libcublas.so.10\n",
            "2020-11-25 01:28:15.701812: I tensorflow/stream_executor/platform/default/dso_loader.cc:48] Successfully opened dynamic library libcufft.so.10\n",
            "2020-11-25 01:28:15.701833: I tensorflow/stream_executor/platform/default/dso_loader.cc:48] Successfully opened dynamic library libcurand.so.10\n",
            "2020-11-25 01:28:15.701852: I tensorflow/stream_executor/platform/default/dso_loader.cc:48] Successfully opened dynamic library libcusolver.so.10\n",
            "2020-11-25 01:28:15.701874: I tensorflow/stream_executor/platform/default/dso_loader.cc:48] Successfully opened dynamic library libcusparse.so.10\n",
            "2020-11-25 01:28:15.701897: I tensorflow/stream_executor/platform/default/dso_loader.cc:48] Successfully opened dynamic library libcudnn.so.7\n",
            "2020-11-25 01:28:15.701965: I tensorflow/stream_executor/cuda/cuda_gpu_executor.cc:982] successful NUMA node read from SysFS had negative value (-1), but there must be at least one NUMA node, so returning NUMA node zero\n",
            "2020-11-25 01:28:15.702740: I tensorflow/stream_executor/cuda/cuda_gpu_executor.cc:982] successful NUMA node read from SysFS had negative value (-1), but there must be at least one NUMA node, so returning NUMA node zero\n",
            "2020-11-25 01:28:15.703245: I tensorflow/core/common_runtime/gpu/gpu_device.cc:1858] Adding visible gpu devices: 0\n",
            "2020-11-25 01:28:15.703307: I tensorflow/stream_executor/platform/default/dso_loader.cc:48] Successfully opened dynamic library libcudart.so.10.1\n",
            "2020-11-25 01:28:16.318076: I tensorflow/core/common_runtime/gpu/gpu_device.cc:1257] Device interconnect StreamExecutor with strength 1 edge matrix:\n",
            "2020-11-25 01:28:16.318135: I tensorflow/core/common_runtime/gpu/gpu_device.cc:1263]      0 \n",
            "2020-11-25 01:28:16.318146: I tensorflow/core/common_runtime/gpu/gpu_device.cc:1276] 0:   N \n",
            "2020-11-25 01:28:16.318325: I tensorflow/stream_executor/cuda/cuda_gpu_executor.cc:982] successful NUMA node read from SysFS had negative value (-1), but there must be at least one NUMA node, so returning NUMA node zero\n",
            "2020-11-25 01:28:16.318926: I tensorflow/stream_executor/cuda/cuda_gpu_executor.cc:982] successful NUMA node read from SysFS had negative value (-1), but there must be at least one NUMA node, so returning NUMA node zero\n",
            "2020-11-25 01:28:16.319442: W tensorflow/core/common_runtime/gpu/gpu_bfc_allocator.cc:39] Overriding allow_growth setting because the TF_FORCE_GPU_ALLOW_GROWTH environment variable is set. Original config value was 0.\n",
            "2020-11-25 01:28:16.319489: I tensorflow/core/common_runtime/gpu/gpu_device.cc:1402] Created TensorFlow device (/job:localhost/replica:0/task:0/device:GPU:0 with 13962 MB memory) -> physical GPU (device: 0, name: Tesla T4, pci bus id: 0000:00:04.0, compute capability: 7.5)\n",
            "WARNING:tensorflow:From run.py:97: Model.fit_generator (from tensorflow.python.keras.engine.training) is deprecated and will be removed in a future version.\n",
            "Instructions for updating:\n",
            "Please use Model.fit, which supports generators.\n",
            "Epoch 1/50\n",
            "2020-11-25 01:28:17.124116: I tensorflow/stream_executor/platform/default/dso_loader.cc:48] Successfully opened dynamic library libcublas.so.10\n",
            "2020-11-25 01:28:18.602326: I tensorflow/stream_executor/platform/default/dso_loader.cc:48] Successfully opened dynamic library libcudnn.so.7\n",
            "448/448 [==============================] - 11s 24ms/step - loss: 1.8034 - accuracy: 0.2588 - val_loss: 1.7204 - val_accuracy: 0.3463\n",
            "Epoch 2/50\n",
            "448/448 [==============================] - 10s 23ms/step - loss: 1.6350 - accuracy: 0.3636 - val_loss: 1.5493 - val_accuracy: 0.4062\n",
            "Epoch 3/50\n",
            "448/448 [==============================] - 10s 22ms/step - loss: 1.5310 - accuracy: 0.4097 - val_loss: 1.4696 - val_accuracy: 0.4375\n",
            "Epoch 4/50\n",
            "448/448 [==============================] - 10s 22ms/step - loss: 1.4652 - accuracy: 0.4394 - val_loss: 1.4107 - val_accuracy: 0.4648\n",
            "Epoch 5/50\n",
            "448/448 [==============================] - 10s 22ms/step - loss: 1.4068 - accuracy: 0.4620 - val_loss: 1.3628 - val_accuracy: 0.4858\n",
            "Epoch 6/50\n",
            "448/448 [==============================] - 10s 22ms/step - loss: 1.3589 - accuracy: 0.4858 - val_loss: 1.3212 - val_accuracy: 0.5001\n",
            "Epoch 7/50\n",
            "448/448 [==============================] - 10s 22ms/step - loss: 1.3125 - accuracy: 0.4992 - val_loss: 1.2878 - val_accuracy: 0.5103\n",
            "Epoch 8/50\n",
            "448/448 [==============================] - 10s 21ms/step - loss: 1.2746 - accuracy: 0.5192 - val_loss: 1.2563 - val_accuracy: 0.5227\n",
            "Epoch 9/50\n",
            "448/448 [==============================] - 10s 22ms/step - loss: 1.2397 - accuracy: 0.5305 - val_loss: 1.2287 - val_accuracy: 0.5407\n",
            "Epoch 10/50\n",
            "448/448 [==============================] - 10s 22ms/step - loss: 1.2092 - accuracy: 0.5459 - val_loss: 1.2103 - val_accuracy: 0.5359\n",
            "Epoch 11/50\n",
            "448/448 [==============================] - 10s 21ms/step - loss: 1.1750 - accuracy: 0.5580 - val_loss: 1.2199 - val_accuracy: 0.5329\n",
            "Epoch 12/50\n",
            "448/448 [==============================] - 10s 22ms/step - loss: 1.1464 - accuracy: 0.5724 - val_loss: 1.1760 - val_accuracy: 0.5536\n",
            "Epoch 13/50\n",
            "448/448 [==============================] - 10s 21ms/step - loss: 1.1206 - accuracy: 0.5811 - val_loss: 1.1510 - val_accuracy: 0.5594\n",
            "Epoch 14/50\n",
            "448/448 [==============================] - 10s 21ms/step - loss: 1.0971 - accuracy: 0.5880 - val_loss: 1.1387 - val_accuracy: 0.5706\n",
            "Epoch 15/50\n",
            "448/448 [==============================] - 10s 21ms/step - loss: 1.0707 - accuracy: 0.6013 - val_loss: 1.1346 - val_accuracy: 0.5699\n",
            "Epoch 16/50\n",
            "448/448 [==============================] - 10s 22ms/step - loss: 1.0513 - accuracy: 0.6100 - val_loss: 1.1206 - val_accuracy: 0.5756\n",
            "Epoch 17/50\n",
            "448/448 [==============================] - 10s 21ms/step - loss: 1.0247 - accuracy: 0.6197 - val_loss: 1.1176 - val_accuracy: 0.5798\n",
            "Epoch 18/50\n",
            "448/448 [==============================] - 10s 22ms/step - loss: 0.9986 - accuracy: 0.6280 - val_loss: 1.1015 - val_accuracy: 0.5805\n",
            "Epoch 19/50\n",
            "448/448 [==============================] - 10s 21ms/step - loss: 0.9775 - accuracy: 0.6360 - val_loss: 1.0992 - val_accuracy: 0.5878\n",
            "Epoch 20/50\n",
            "448/448 [==============================] - 10s 22ms/step - loss: 0.9545 - accuracy: 0.6471 - val_loss: 1.1053 - val_accuracy: 0.5857\n",
            "Epoch 21/50\n",
            "448/448 [==============================] - 10s 22ms/step - loss: 0.9273 - accuracy: 0.6592 - val_loss: 1.0872 - val_accuracy: 0.5946\n",
            "Epoch 22/50\n",
            "448/448 [==============================] - 10s 21ms/step - loss: 0.9067 - accuracy: 0.6664 - val_loss: 1.0870 - val_accuracy: 0.5933\n",
            "Epoch 23/50\n",
            "448/448 [==============================] - 10s 21ms/step - loss: 0.8873 - accuracy: 0.6747 - val_loss: 1.0803 - val_accuracy: 0.6044\n",
            "Epoch 24/50\n",
            "448/448 [==============================] - 10s 21ms/step - loss: 0.8581 - accuracy: 0.6856 - val_loss: 1.0761 - val_accuracy: 0.6013\n",
            "Epoch 25/50\n",
            "448/448 [==============================] - 10s 21ms/step - loss: 0.8389 - accuracy: 0.6920 - val_loss: 1.0769 - val_accuracy: 0.6059\n",
            "Epoch 26/50\n",
            "448/448 [==============================] - 10s 22ms/step - loss: 0.8144 - accuracy: 0.7002 - val_loss: 1.0707 - val_accuracy: 0.6067\n",
            "Epoch 27/50\n",
            "448/448 [==============================] - 10s 22ms/step - loss: 0.7974 - accuracy: 0.7086 - val_loss: 1.0775 - val_accuracy: 0.6097\n",
            "Epoch 28/50\n",
            "448/448 [==============================] - 10s 21ms/step - loss: 0.7699 - accuracy: 0.7197 - val_loss: 1.0702 - val_accuracy: 0.6071\n",
            "Epoch 29/50\n",
            "448/448 [==============================] - 9s 21ms/step - loss: 0.7445 - accuracy: 0.7280 - val_loss: 1.0799 - val_accuracy: 0.6150\n",
            "Epoch 30/50\n",
            "448/448 [==============================] - 10s 22ms/step - loss: 0.7288 - accuracy: 0.7345 - val_loss: 1.0753 - val_accuracy: 0.6112\n",
            "Epoch 31/50\n",
            "448/448 [==============================] - 10s 22ms/step - loss: 0.7042 - accuracy: 0.7436 - val_loss: 1.0879 - val_accuracy: 0.6137\n",
            "Epoch 32/50\n",
            "448/448 [==============================] - 10s 21ms/step - loss: 0.6827 - accuracy: 0.7522 - val_loss: 1.0940 - val_accuracy: 0.6110\n",
            "Epoch 33/50\n",
            "448/448 [==============================] - 10s 22ms/step - loss: 0.6616 - accuracy: 0.7608 - val_loss: 1.0957 - val_accuracy: 0.6198\n",
            "Epoch 34/50\n",
            "448/448 [==============================] - 9s 21ms/step - loss: 0.6387 - accuracy: 0.7672 - val_loss: 1.0993 - val_accuracy: 0.6179\n",
            "Epoch 35/50\n",
            "448/448 [==============================] - 10s 21ms/step - loss: 0.6155 - accuracy: 0.7754 - val_loss: 1.0839 - val_accuracy: 0.6230\n",
            "Epoch 36/50\n",
            "448/448 [==============================] - 9s 21ms/step - loss: 0.6006 - accuracy: 0.7819 - val_loss: 1.1021 - val_accuracy: 0.6215\n",
            "Epoch 37/50\n",
            "448/448 [==============================] - 10s 21ms/step - loss: 0.5825 - accuracy: 0.7860 - val_loss: 1.1051 - val_accuracy: 0.6233\n",
            "Epoch 38/50\n",
            "448/448 [==============================] - 10s 22ms/step - loss: 0.5681 - accuracy: 0.7951 - val_loss: 1.1122 - val_accuracy: 0.6222\n",
            "Epoch 39/50\n",
            "448/448 [==============================] - 9s 21ms/step - loss: 0.5436 - accuracy: 0.8052 - val_loss: 1.1148 - val_accuracy: 0.6214\n",
            "Epoch 40/50\n",
            "448/448 [==============================] - 9s 21ms/step - loss: 0.5275 - accuracy: 0.8080 - val_loss: 1.1181 - val_accuracy: 0.6212\n",
            "Epoch 41/50\n",
            "448/448 [==============================] - 10s 22ms/step - loss: 0.5116 - accuracy: 0.8177 - val_loss: 1.1337 - val_accuracy: 0.6166\n",
            "Epoch 42/50\n",
            "448/448 [==============================] - 10s 21ms/step - loss: 0.4987 - accuracy: 0.8200 - val_loss: 1.1335 - val_accuracy: 0.6237\n",
            "Epoch 43/50\n",
            "448/448 [==============================] - 10s 22ms/step - loss: 0.4765 - accuracy: 0.8259 - val_loss: 1.1405 - val_accuracy: 0.6187\n",
            "Epoch 44/50\n",
            "448/448 [==============================] - 10s 22ms/step - loss: 0.4645 - accuracy: 0.8319 - val_loss: 1.1324 - val_accuracy: 0.6275\n",
            "Epoch 45/50\n",
            "448/448 [==============================] - 10s 21ms/step - loss: 0.4489 - accuracy: 0.8369 - val_loss: 1.1558 - val_accuracy: 0.6233\n",
            "Epoch 46/50\n",
            "448/448 [==============================] - 9s 21ms/step - loss: 0.4272 - accuracy: 0.8458 - val_loss: 1.1678 - val_accuracy: 0.6243\n",
            "Epoch 47/50\n",
            "448/448 [==============================] - 9s 21ms/step - loss: 0.4166 - accuracy: 0.8513 - val_loss: 1.1793 - val_accuracy: 0.6244\n",
            "Epoch 48/50\n",
            "448/448 [==============================] - 10s 21ms/step - loss: 0.4032 - accuracy: 0.8536 - val_loss: 1.1958 - val_accuracy: 0.6226\n",
            "Epoch 49/50\n",
            "448/448 [==============================] - 9s 21ms/step - loss: 0.3922 - accuracy: 0.8608 - val_loss: 1.2000 - val_accuracy: 0.6277\n",
            "Epoch 50/50\n",
            "448/448 [==============================] - 9s 21ms/step - loss: 0.3797 - accuracy: 0.8649 - val_loss: 1.1947 - val_accuracy: 0.6221\n",
            "run.py:31: MatplotlibDeprecationWarning: Passing the minor parameter of set_xticks() positionally is deprecated since Matplotlib 3.2; the parameter will become keyword-only two minor releases later.\n",
            "  axs[0].set_xticks(np.arange(1,len(model_history.history['accuracy'])+1),len(model_history.history['accuracy'])/10)\n",
            "run.py:39: MatplotlibDeprecationWarning: Passing the minor parameter of set_xticks() positionally is deprecated since Matplotlib 3.2; the parameter will become keyword-only two minor releases later.\n",
            "  axs[1].set_xticks(np.arange(1,len(model_history.history['loss'])+1),len(model_history.history['loss'])/10)\n",
            "<Figure size 1500x500 with 2 Axes>\n"
          ],
          "name": "stdout"
        }
      ]
    },
    {
      "cell_type": "code",
      "metadata": {
        "colab": {
          "base_uri": "https://localhost:8080/"
        },
        "id": "b2xGVLMfDgHe",
        "outputId": "8e768b9c-9043-4334-db24-41b86bb9466a"
      },
      "source": [
        "!python run.py --mode display"
      ],
      "execution_count": 13,
      "outputs": [
        {
          "output_type": "stream",
          "text": [
            "2020-11-25 01:56:38.761524: I tensorflow/stream_executor/platform/default/dso_loader.cc:48] Successfully opened dynamic library libcudart.so.10.1\n",
            "Found 28709 images belonging to 7 classes.\n",
            "Found 7178 images belonging to 7 classes.\n",
            "2020-11-25 01:56:41.555149: I tensorflow/stream_executor/platform/default/dso_loader.cc:48] Successfully opened dynamic library libcuda.so.1\n",
            "2020-11-25 01:56:41.590148: I tensorflow/stream_executor/cuda/cuda_gpu_executor.cc:982] successful NUMA node read from SysFS had negative value (-1), but there must be at least one NUMA node, so returning NUMA node zero\n",
            "2020-11-25 01:56:41.590797: I tensorflow/core/common_runtime/gpu/gpu_device.cc:1716] Found device 0 with properties: \n",
            "pciBusID: 0000:00:04.0 name: Tesla T4 computeCapability: 7.5\n",
            "coreClock: 1.59GHz coreCount: 40 deviceMemorySize: 14.73GiB deviceMemoryBandwidth: 298.08GiB/s\n",
            "2020-11-25 01:56:41.590859: I tensorflow/stream_executor/platform/default/dso_loader.cc:48] Successfully opened dynamic library libcudart.so.10.1\n",
            "2020-11-25 01:56:41.592505: I tensorflow/stream_executor/platform/default/dso_loader.cc:48] Successfully opened dynamic library libcublas.so.10\n",
            "2020-11-25 01:56:41.594133: I tensorflow/stream_executor/platform/default/dso_loader.cc:48] Successfully opened dynamic library libcufft.so.10\n",
            "2020-11-25 01:56:41.594509: I tensorflow/stream_executor/platform/default/dso_loader.cc:48] Successfully opened dynamic library libcurand.so.10\n",
            "2020-11-25 01:56:41.596196: I tensorflow/stream_executor/platform/default/dso_loader.cc:48] Successfully opened dynamic library libcusolver.so.10\n",
            "2020-11-25 01:56:41.597547: I tensorflow/stream_executor/platform/default/dso_loader.cc:48] Successfully opened dynamic library libcusparse.so.10\n",
            "2020-11-25 01:56:41.606015: I tensorflow/stream_executor/platform/default/dso_loader.cc:48] Successfully opened dynamic library libcudnn.so.7\n",
            "2020-11-25 01:56:41.606205: I tensorflow/stream_executor/cuda/cuda_gpu_executor.cc:982] successful NUMA node read from SysFS had negative value (-1), but there must be at least one NUMA node, so returning NUMA node zero\n",
            "2020-11-25 01:56:41.606821: I tensorflow/stream_executor/cuda/cuda_gpu_executor.cc:982] successful NUMA node read from SysFS had negative value (-1), but there must be at least one NUMA node, so returning NUMA node zero\n",
            "2020-11-25 01:56:41.607403: I tensorflow/core/common_runtime/gpu/gpu_device.cc:1858] Adding visible gpu devices: 0\n",
            "2020-11-25 01:56:41.614114: I tensorflow/core/platform/profile_utils/cpu_utils.cc:104] CPU Frequency: 2200000000 Hz\n",
            "2020-11-25 01:56:41.614325: I tensorflow/compiler/xla/service/service.cc:168] XLA service 0x2f6f100 initialized for platform Host (this does not guarantee that XLA will be used). Devices:\n",
            "2020-11-25 01:56:41.614361: I tensorflow/compiler/xla/service/service.cc:176]   StreamExecutor device (0): Host, Default Version\n",
            "2020-11-25 01:56:41.721176: I tensorflow/stream_executor/cuda/cuda_gpu_executor.cc:982] successful NUMA node read from SysFS had negative value (-1), but there must be at least one NUMA node, so returning NUMA node zero\n",
            "2020-11-25 01:56:41.721824: I tensorflow/compiler/xla/service/service.cc:168] XLA service 0x2f6f2c0 initialized for platform CUDA (this does not guarantee that XLA will be used). Devices:\n",
            "2020-11-25 01:56:41.721859: I tensorflow/compiler/xla/service/service.cc:176]   StreamExecutor device (0): Tesla T4, Compute Capability 7.5\n",
            "2020-11-25 01:56:41.722075: I tensorflow/stream_executor/cuda/cuda_gpu_executor.cc:982] successful NUMA node read from SysFS had negative value (-1), but there must be at least one NUMA node, so returning NUMA node zero\n",
            "2020-11-25 01:56:41.722592: I tensorflow/core/common_runtime/gpu/gpu_device.cc:1716] Found device 0 with properties: \n",
            "pciBusID: 0000:00:04.0 name: Tesla T4 computeCapability: 7.5\n",
            "coreClock: 1.59GHz coreCount: 40 deviceMemorySize: 14.73GiB deviceMemoryBandwidth: 298.08GiB/s\n",
            "2020-11-25 01:56:41.722650: I tensorflow/stream_executor/platform/default/dso_loader.cc:48] Successfully opened dynamic library libcudart.so.10.1\n",
            "2020-11-25 01:56:41.722708: I tensorflow/stream_executor/platform/default/dso_loader.cc:48] Successfully opened dynamic library libcublas.so.10\n",
            "2020-11-25 01:56:41.722758: I tensorflow/stream_executor/platform/default/dso_loader.cc:48] Successfully opened dynamic library libcufft.so.10\n",
            "2020-11-25 01:56:41.722783: I tensorflow/stream_executor/platform/default/dso_loader.cc:48] Successfully opened dynamic library libcurand.so.10\n",
            "2020-11-25 01:56:41.722806: I tensorflow/stream_executor/platform/default/dso_loader.cc:48] Successfully opened dynamic library libcusolver.so.10\n",
            "2020-11-25 01:56:41.722831: I tensorflow/stream_executor/platform/default/dso_loader.cc:48] Successfully opened dynamic library libcusparse.so.10\n",
            "2020-11-25 01:56:41.722861: I tensorflow/stream_executor/platform/default/dso_loader.cc:48] Successfully opened dynamic library libcudnn.so.7\n",
            "2020-11-25 01:56:41.722941: I tensorflow/stream_executor/cuda/cuda_gpu_executor.cc:982] successful NUMA node read from SysFS had negative value (-1), but there must be at least one NUMA node, so returning NUMA node zero\n",
            "2020-11-25 01:56:41.723590: I tensorflow/stream_executor/cuda/cuda_gpu_executor.cc:982] successful NUMA node read from SysFS had negative value (-1), but there must be at least one NUMA node, so returning NUMA node zero\n",
            "2020-11-25 01:56:41.724171: I tensorflow/core/common_runtime/gpu/gpu_device.cc:1858] Adding visible gpu devices: 0\n",
            "2020-11-25 01:56:41.724238: I tensorflow/stream_executor/platform/default/dso_loader.cc:48] Successfully opened dynamic library libcudart.so.10.1\n",
            "2020-11-25 01:56:42.357511: I tensorflow/core/common_runtime/gpu/gpu_device.cc:1257] Device interconnect StreamExecutor with strength 1 edge matrix:\n",
            "2020-11-25 01:56:42.357571: I tensorflow/core/common_runtime/gpu/gpu_device.cc:1263]      0 \n",
            "2020-11-25 01:56:42.357583: I tensorflow/core/common_runtime/gpu/gpu_device.cc:1276] 0:   N \n",
            "2020-11-25 01:56:42.357788: I tensorflow/stream_executor/cuda/cuda_gpu_executor.cc:982] successful NUMA node read from SysFS had negative value (-1), but there must be at least one NUMA node, so returning NUMA node zero\n",
            "2020-11-25 01:56:42.358425: I tensorflow/stream_executor/cuda/cuda_gpu_executor.cc:982] successful NUMA node read from SysFS had negative value (-1), but there must be at least one NUMA node, so returning NUMA node zero\n",
            "2020-11-25 01:56:42.358976: W tensorflow/core/common_runtime/gpu/gpu_bfc_allocator.cc:39] Overriding allow_growth setting because the TF_FORCE_GPU_ALLOW_GROWTH environment variable is set. Original config value was 0.\n",
            "2020-11-25 01:56:42.359023: I tensorflow/core/common_runtime/gpu/gpu_device.cc:1402] Created TensorFlow device (/job:localhost/replica:0/task:0/device:GPU:0 with 13962 MB memory) -> physical GPU (device: 0, name: Tesla T4, pci bus id: 0000:00:04.0, compute capability: 7.5)\n",
            "[ WARN:0] global /io/opencv/modules/videoio/src/cap_v4l.cpp (802) open VIDEOIO ERROR: V4L: can't open camera by index 0\n"
          ],
          "name": "stdout"
        }
      ]
    },
    {
      "cell_type": "code",
      "metadata": {
        "colab": {
          "base_uri": "https://localhost:8080/",
          "height": 130
        },
        "id": "3AkdWVt-HyUV",
        "outputId": "17189140-7632-425c-9649-caab68ca43fd"
      },
      "source": [
        "sudo modprobe bcm2835-v4l2"
      ],
      "execution_count": 14,
      "outputs": [
        {
          "output_type": "error",
          "ename": "SyntaxError",
          "evalue": "ignored",
          "traceback": [
            "\u001b[0;36m  File \u001b[0;32m\"<ipython-input-14-b35ed913506f>\"\u001b[0;36m, line \u001b[0;32m1\u001b[0m\n\u001b[0;31m    sudo modprobe bcm2835-v4l2\u001b[0m\n\u001b[0m                ^\u001b[0m\n\u001b[0;31mSyntaxError\u001b[0m\u001b[0;31m:\u001b[0m invalid syntax\n"
          ]
        }
      ]
    }
  ]
}